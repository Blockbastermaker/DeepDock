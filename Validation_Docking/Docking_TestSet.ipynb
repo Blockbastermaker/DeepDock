{
 "cells": [
  {
   "cell_type": "code",
   "execution_count": 1,
   "metadata": {},
   "outputs": [
    {
     "name": "stderr",
     "output_type": "stream",
     "text": [
      "RDKit WARNING: [12:00:22] Enabling RDKit 2019.09.1 jupyter extensions\n"
     ]
    }
   ],
   "source": [
    "from torch_geometric.data import DataLoader\n",
    "import torch.distributions as D\n",
    "import matplotlib.pyplot as plt\n",
    "from rdkit import Chem, DataStructs\n",
    "from rdkit.Chem import AllChem, Draw, Descriptors, rdMolTransforms\n",
    "from rdkit import rdBase\n",
    "rdBase.DisableLog('rdApp.warning')\n",
    "import glob\n",
    "import os\n",
    "\n",
    "import deepdock\n",
    "from deepdock.utils.distributions import *\n",
    "from deepdock.utils.data import *\n",
    "from deepdock.models import *\n",
    "\n",
    "from deepdock.DockingFunction import *\n",
    "from scipy.optimize import basinhopping, brute, differential_evolution\n",
    "import copy\n",
    "\n",
    "# set the random seeds for reproducibility\n",
    "np.random.seed(123)\n",
    "torch.cuda.manual_seed_all(123)\n",
    "torch.manual_seed(123)\n",
    "\n",
    "%matplotlib inline"
   ]
  },
  {
   "cell_type": "code",
   "execution_count": 2,
   "metadata": {},
   "outputs": [
    {
     "data": {
      "text/plain": [
       "<All keys matched successfully>"
      ]
     },
     "execution_count": 2,
     "metadata": {},
     "output_type": "execute_result"
    }
   ],
   "source": [
    "device = 'cuda' if torch.cuda.is_available() else 'cpu'\n",
    "\n",
    "ligand_model = LigandNet(28, residual_layers=10, dropout_rate=0.10)\n",
    "target_model = TargetNet(4, residual_layers=10, dropout_rate=0.10)\n",
    "model = DeepDock(ligand_model, target_model, hidden_dim=64, n_gaussians=10, dropout_rate=0.10, dist_threhold=7.).to(device)\n",
    "\n",
    "checkpoint = torch.load(deepdock.__path__[0]+'/../Trained_models/DeepDock_pdbbindv2019_Schrodinger_17K_minTestLoss.chk', map_location=torch.device(device))\n",
    "model.load_state_dict(checkpoint['model_state_dict']) "
   ]
  },
  {
   "cell_type": "code",
   "execution_count": 3,
   "metadata": {},
   "outputs": [
    {
     "name": "stdout",
     "output_type": "stream",
     "text": [
      "Complexes in Test Set: 1367\n",
      "CPU times: user 4.9 s, sys: 2.61 s, total: 7.51 s\n",
      "Wall time: 7.51 s\n"
     ]
    }
   ],
   "source": [
    "%%time\n",
    "db_complex = PDBbind_complex_dataset(data_path=deepdock.__path__[0]+'/../data/dataset_deepdock_pdbbind_v2019_Schrodinger_17K_28a6b.tar', \n",
    "                                     min_target_nodes=None, max_ligand_nodes=None)\n",
    "db_complex = [i for i in db_complex if i[3] in checkpoint['pdbIDs_test']]\n",
    "print('Complexes in Test Set:', len(db_complex))\n"
   ]
  },
  {
   "cell_type": "code",
   "execution_count": 4,
   "metadata": {},
   "outputs": [],
   "source": [
    "def dock_compound(data, dist_threshold=3., popsize=150):\n",
    "    np.random.seed(123)\n",
    "    torch.cuda.manual_seed_all(123)\n",
    "    torch.manual_seed(123)\n",
    "    \n",
    "    model.eval()\n",
    "    ligand, target, activity, pdbid = data\n",
    "    ligand, target = ligand.to(device), target.to(device)\n",
    "    pi, sigma, mu, dist, atom_types, bond_types, batch = model(ligand, target)\n",
    "    \n",
    "    pdb_id = pdbid[0]\n",
    "    real_mol = Chem.SDMolSupplier(os.path.join(deepdock.__path__[0]+'/../data/PDBbind2019_schrodinger_ligands', i, i+'_ligand.sdf'))[0]\n",
    "    opt = optimze_conformation(mol=real_mol, target_coords=target.pos.cpu(), n_particles=1, \n",
    "                               pi=pi.cpu(), mu=mu.cpu(), sigma=sigma.cpu(), dist_threshold=dist_threshold)\n",
    "    \n",
    "    #Define bounds\n",
    "    max_bound = np.concatenate([[np.pi]*3, target.pos.cpu().max(0)[0].numpy(), [np.pi]*len(opt.rotable_bonds)], axis=0)\n",
    "    min_bound = np.concatenate([[-np.pi]*3, target.pos.cpu().min(0)[0].numpy(), [-np.pi]*len(opt.rotable_bonds)], axis=0)\n",
    "    bounds = (min_bound, max_bound)\n",
    "    \n",
    "    # Optimize conformations\n",
    "    result = differential_evolution(opt.score_conformation, list(zip(bounds[0],bounds[1])), maxiter=500, \n",
    "                                    popsize=int(np.ceil(popsize/(len(opt.rotable_bonds)+6))),\n",
    "                                    mutation=(0.5, 1), recombination=0.8, disp=False, seed=123)\n",
    "    \n",
    "    # Get optimized molecule and RMSD\n",
    "    opt_mol = apply_changes(opt.mol, result['x'], opt.rotable_bonds)\n",
    "    ligCoords = torch.stack([torch.tensor(m.GetConformer().GetPositions()[opt.noHidx]) for m in [opt_mol]])\n",
    "    dist = compute_euclidean_distances_matrix(ligCoords, opt.targetCoords).flatten().unsqueeze(1)\n",
    "    result['num_MixOfGauss'] = torch.where(dist <= dist_threshold)[0].size(0)\n",
    "    result['rmsd'] = Chem.rdMolAlign.AlignMol(opt_mol, real_mol, atomMap=list(zip(opt.noHidx,opt.noHidx)))\n",
    "    result['pdb_id'] = pdb_id\n",
    "    \n",
    "    # Get score of real conformation\n",
    "    ligCoords = torch.stack([torch.tensor(m.GetConformer().GetPositions()[opt.noHidx]) for m in [real_mol]])\n",
    "    dist = compute_euclidean_distances_matrix(ligCoords, opt.targetCoords).flatten().unsqueeze(1)\n",
    "    score_real_mol = calculate_probablity(opt.pi, opt.sigma, opt.mu, dist)\n",
    "    score_real_mol[torch.where(dist > dist_threshold)[0]] = 0.\n",
    "    result['score_real_mol'] = pdb_id = score_real_mol.reshape(opt.n_particles, -1).sum(1).item()\n",
    "    del ligCoords, dist, score_real_mol\n",
    "    \n",
    "    result['pkx'] = data[2][0].item()\n",
    "    result['num_atoms'] = real_mol.GetNumHeavyAtoms()\n",
    "    result['num_rotbonds'] = len(opt.rotable_bonds)\n",
    "    result['rotbonds'] = opt.rotable_bonds\n",
    "    #result['num_MixOfGauss'] = mu.size(0)\n",
    "    \n",
    "    return result"
   ]
  },
  {
   "cell_type": "code",
   "execution_count": null,
   "metadata": {},
   "outputs": [
    {
     "name": "stderr",
     "output_type": "stream",
     "text": [
      "RDKit WARNING: [18:41:01] 1w70_ligand: Warning - no explicit hydrogens in mol2 file but needed for formal charge estimation.\n"
     ]
    }
   ],
   "source": [
    "%%time\n",
    "loader = DataLoader(db_complex, batch_size=1, shuffle=False)\n",
    "\n",
    "results = []\n",
    "i = 0\n",
    "for data in loader:\n",
    "    try:\n",
    "        results.append(dock_compound(data))\n",
    "        d = {}\n",
    "        for k in results[0].keys():\n",
    "            if k != 'jac':\n",
    "                d[k] = tuple(d[k] for d in results)\n",
    "        torch.save(d, 'DockingResults_TestSet.chk')\n",
    "        results_df = pd.DataFrame.from_dict(d)\n",
    "        results_df.to_csv('DockingResults_TestSet.csv', index=False) \n",
    "        i += 1\n",
    "    except:\n",
    "        print(i, data[3])\n",
    "        #break\n",
    "        i += 1"
   ]
  },
  {
   "cell_type": "code",
   "execution_count": null,
   "metadata": {},
   "outputs": [],
   "source": [
    "print('Number of compounds with succesful optimization:', results_df[results_df.success == True].shape)\n",
    "print('Mean RMSD of all compounds:', results_df.rmsd.mean(), '+/-', results_df.rmsd.std())\n",
    "print('Mean RMSD of compounds with succesful optimization:', results_df[results_df.success == True].rmsd.mean(), '+/-', results_df[results_df.success == True].rmsd.std())"
   ]
  },
  {
   "cell_type": "code",
   "execution_count": null,
   "metadata": {},
   "outputs": [],
   "source": []
  }
 ],
 "metadata": {
  "kernelspec": {
   "display_name": "Python [conda env:python36]",
   "language": "python",
   "name": "conda-env-python36-py"
  },
  "language_info": {
   "codemirror_mode": {
    "name": "ipython",
    "version": 3
   },
   "file_extension": ".py",
   "mimetype": "text/x-python",
   "name": "python",
   "nbconvert_exporter": "python",
   "pygments_lexer": "ipython3",
   "version": "3.6.12"
  }
 },
 "nbformat": 4,
 "nbformat_minor": 4
}
